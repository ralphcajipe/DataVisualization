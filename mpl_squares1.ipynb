{
  "cells": [
    {
      "cell_type": "markdown",
      "metadata": {
        "colab_type": "text",
        "id": "view-in-github"
      },
      "source": [
        "<a href=\"https://colab.research.google.com/github/ralphcajipe/DataVisualization/blob/master/mpl_squares1.ipynb\" target=\"_parent\"><img src=\"https://colab.research.google.com/assets/colab-badge.svg\" alt=\"Open In Colab\"/></a>"
      ]
    },
    {
      "cell_type": "markdown",
      "metadata": {
        "id": "Zn5k42rykdsW"
      },
      "source": [
        "**Plotting a Simple Line Graph**"
      ]
    },
    {
      "cell_type": "code",
      "execution_count": 1,
      "metadata": {
        "colab": {
          "base_uri": "https://localhost:8080/",
          "height": 265
        },
        "id": "1Zqd-nqqeEwM",
        "outputId": "25a61f97-fbca-4d40-9ea6-7a046c8cea0e"
      },
      "outputs": [
        {
          "data": {
            "image/png": "[encoded data removed]",
            "text/plain": [
              "<Figure size 432x288 with 1 Axes>"
            ]
          },
          "metadata": {
            "needs_background": "dark"
          },
          "output_type": "display_data"
        }
      ],
      "source": [
        "# pyplot module contains a number of functions that generate charts and plots\n",
        "import matplotlib.pyplot as plt\n",
        "\n",
        "# Read the black axis label if using GitHub Dark Defualt theme in VS Code\n",
        "from matplotlib import style\n",
        "style.use('dark_background')\n",
        "\n",
        "\n",
        "# Holds the data to plot\n",
        "#          1  2  3  4   5  \n",
        "squares = [1, 4, 9, 16, 25]\n",
        "\n",
        "# fig represents the entire figure or collection of plots that are generated\n",
        "# ax represents a single plot on the figure\n",
        "# subplots() function can generate one or more plots in the same figure\n",
        "fig, ax = plt.subplots()\n",
        "\n",
        "# plot() function will try to plot the data its's given in meaningful way\n",
        "ax.plot(squares)\n",
        "\n",
        "# Opens Matplotlib's viewer and displays the plot\n",
        "plt.show()"
      ]
    },
    {
      "cell_type": "markdown",
      "metadata": {
        "id": "OvRA6VCYkRSa"
      },
      "source": [
        "*One of the simplest plots you can make in Matplotlib*"
      ]
    }
  ],
  "metadata": {
    "colab": {
      "authorship_tag": "ABX9TyNMBb2ArCHvUDjwwjIS/hbL",
      "collapsed_sections": [],
      "include_colab_link": true,
      "name": "mpl_squares1.ipynb",
      "provenance": []
    },
    "interpreter": {
      "hash": "0a7ff40166495b370549edf6db23c9e633714fb5f70260a8091253ca8df8e74f"
    },
    "kernelspec": {
      "display_name": "Python 3.10.2 64-bit",
      "language": "python",
      "name": "python3"
    },
    "language_info": {
      "codemirror_mode": {
        "name": "ipython",
        "version": 3
      },
      "file_extension": ".py",
      "mimetype": "text/x-python",
      "name": "python",
      "nbconvert_exporter": "python",
      "pygments_lexer": "ipython3",
      "version": "3.10.2"
    }
  },
  "nbformat": 4,
  "nbformat_minor": 0
}
