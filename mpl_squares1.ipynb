{
  "nbformat": 4,
  "nbformat_minor": 0,
  "metadata": {
    "colab": {
      "name": "mpl_squares1.ipynb",
      "provenance": [],
      "collapsed_sections": [],
      "authorship_tag": "ABX9TyNMBb2ArCHvUDjwwjIS/hbL",
      "include_colab_link": true
    },
    "kernelspec": {
      "name": "python3",
      "display_name": "Python 3"
    },
    "language_info": {
      "name": "python"
    }
  },
  "cells": [
    {
      "cell_type": "markdown",
      "metadata": {
        "id": "view-in-github",
        "colab_type": "text"
      },
      "source": [
        "<a href=\"https://colab.research.google.com/github/ralphcajipe/DataVisualization/blob/master/mpl_squares1.ipynb\" target=\"_parent\"><img src=\"https://colab.research.google.com/assets/colab-badge.svg\" alt=\"Open In Colab\"/></a>"
      ]
    },
    {
      "cell_type": "markdown",
      "source": [
        "**Plotting a Simple Line Graph**"
      ],
      "metadata": {
        "id": "Zn5k42rykdsW"
      }
    },
    {
      "cell_type": "code",
      "execution_count": 5,
      "metadata": {
        "colab": {
          "base_uri": "https://localhost:8080/",
          "height": 265
        },
        "id": "1Zqd-nqqeEwM",
        "outputId": "25a61f97-fbca-4d40-9ea6-7a046c8cea0e"
      },
      "outputs": [
        {
          "output_type": "display_data",
          "data": {
            "text/plain": [
              "<Figure size 432x288 with 1 Axes>"
            ],
            "image/png": "[encoded data removed]"
          },
          "metadata": {
            "needs_background": "light"
          }
        }
      ],
      "source": [
        "# pyplot module contains a number of functions that generate charts and plots\n",
        "import matplotlib.pyplot as plt\n",
        "\n",
        "# Holds the data to plot\n",
        "#          1  2  3  4   5  \n",
        "squares = [1, 4, 9, 16, 25]\n",
        "\n",
        "# fig represents the entire figure or collection of plots that are generated\n",
        "# ax represents a single plot on the figure\n",
        "# subplots() function can generate one or more plots in the same figure\n",
        "fig, ax = plt.subplots()\n",
        "\n",
        "# plot() function will try to plot the data its's given in meaningful way\n",
        "ax.plot(squares)\n",
        "\n",
        "# Opens Matplotlib's viewer and displays the plot\n",
        "plt.show()"
      ]
    },
    {
      "cell_type": "markdown",
      "source": [
        "*One of the simplest plots you can make in Matplotlib*"
      ],
      "metadata": {
        "id": "OvRA6VCYkRSa"
      }
    }
  ]
}